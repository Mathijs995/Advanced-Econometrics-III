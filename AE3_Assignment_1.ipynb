{
  "nbformat": 4,
  "nbformat_minor": 0,
  "metadata": {
    "colab": {
      "name": "AE3 - Assignment 1.ipynb",
      "version": "0.3.2",
      "provenance": [],
      "include_colab_link": true
    },
    "kernelspec": {
      "name": "python3",
      "display_name": "Python 3"
    }
  },
  "cells": [
    {
      "cell_type": "markdown",
      "metadata": {
        "id": "view-in-github",
        "colab_type": "text"
      },
      "source": [
        "<a href=\"https://colab.research.google.com/github/Mathijs995/Advanced-Econometrics-III/blob/master/AE3_Assignment_1.ipynb\" target=\"_parent\"><img src=\"https://colab.research.google.com/assets/colab-badge.svg\" alt=\"Open In Colab\"/></a>"
      ]
    },
    {
      "metadata": {
        "id": "w9rxxjGxuiKI",
        "colab_type": "text"
      },
      "cell_type": "markdown",
      "source": [
        "# Advanced Econometrics III\n",
        "## Assignment 1\n",
        "The volatility index (VIX) is a measure of the volatility of the S&P 500 index, constructed from option prices; see https://www.cboe.com/micro/vix/vixwhite.pdf. The file VIX.csv contains daily data on the VIX over the years 1991–2017. We are going to work with the natural logarithm of the VIX given by $Xt = \\ln(\\text{VIX}_{t})$. We start by mounting Google Drive to this notebook, so we can import the data."
      ]
    },
    {
      "metadata": {
        "id": "ZwkvYYc9vGtm",
        "colab_type": "code",
        "colab": {
          "base_uri": "https://localhost:8080/",
          "height": 122
        },
        "outputId": "8864f12f-79b4-4542-f2cb-fbf49a747e1f"
      },
      "cell_type": "code",
      "source": [
        "from google.colab import drive\n",
        "drive.mount('/content/drive')"
      ],
      "execution_count": 1,
      "outputs": [
        {
          "output_type": "stream",
          "text": [
            "Go to this URL in a browser: https://accounts.google.com/o/oauth2/auth?client_id=947318989803-6bn6qk8qdgf4n4g3pfee6491hc0brc4i.apps.googleusercontent.com&redirect_uri=urn%3Aietf%3Awg%3Aoauth%3A2.0%3Aoob&scope=email%20https%3A%2F%2Fwww.googleapis.com%2Fauth%2Fdocs.test%20https%3A%2F%2Fwww.googleapis.com%2Fauth%2Fdrive%20https%3A%2F%2Fwww.googleapis.com%2Fauth%2Fdrive.photos.readonly%20https%3A%2F%2Fwww.googleapis.com%2Fauth%2Fpeopleapi.readonly&response_type=code\n",
            "\n",
            "Enter your authorization code:\n",
            "··········\n",
            "Mounted at /content/drive\n"
          ],
          "name": "stdout"
        }
      ]
    },
    {
      "metadata": {
        "id": "jwO7U4JmvzJP",
        "colab_type": "text"
      },
      "cell_type": "markdown",
      "source": [
        "It remains to download the data and apply the natural logarithm transformation."
      ]
    },
    {
      "metadata": {
        "id": "9NCYlKwbtHKJ",
        "colab_type": "code",
        "colab": {}
      },
      "cell_type": "code",
      "source": [
        "import pandas as pd\n",
        "import numpy as np\n",
        "import scipy\n",
        "from statsmodels.graphics.tsaplots import plot_acf\n",
        "import matplotlib as plt"
      ],
      "execution_count": 0,
      "outputs": []
    },
    {
      "metadata": {
        "id": "1CCygCYAMVvN",
        "colab_type": "code",
        "colab": {}
      },
      "cell_type": "code",
      "source": [
        "# Print options\n",
        "np.set_printoptions(precision=4, threshold=10000, linewidth=150, suppress=True)\n",
        "\n",
        "\n",
        "def regressors_given_p(fd_X, X, p):\n",
        "    \"\"\"Purpose: Returns the regressor matrix mX and the regressand vector vY\n",
        "    for a given number of lags p (now added a constant)\n",
        "    Inputs: fd_X, X, p\n",
        "    Returns: vY,mX\n",
        "    \"\"\"\n",
        "    ones = np.ones((len(X)-p-1))\n",
        "    ones = ones.reshape((ones.shape[0],1))\n",
        "    vY = fd_X[p:]\n",
        "    mX = np.concatenate((ones, X[p:-1], np.concatenate([fd_X[p - i - 1: - i - 1] for i in range(p)], axis=1)), axis=1)\n",
        "    \n",
        "#    print(\"fd_X=\\n{}\\n\".format(fd_X[0:5,]))\n",
        "#    print(\"X=\\n{}\\n\".format(X[0:5,]))\n",
        "#    print(\"vY =\\n{}\\n\".format(vY[0:5,]))\n",
        "#    print(\"mX =\\n{}\\n\".format(mX[0:5,]))\n",
        "    \n",
        "    return vY, mX\n",
        "\n",
        "\n",
        "def ols(vY,mX):\n",
        "    \"\"\"Purpose: Returns the ols estimate vector vB\n",
        "    Inputs: vY,mX\n",
        "    Returns: vB\n",
        "    \"\"\"\n",
        "    vB=np.linalg.inv(mX.T@mX)@mX.T@vY\n",
        "    \n",
        "    return vB\n",
        "\n",
        "def bic(vY,mX, vB):\n",
        "    \"\"\"Purpose: value of BIC criterion given data and parameters\n",
        "    Inputs: vY,mX,vB\n",
        "    Returns: BIC (scalar)\n",
        "    \"\"\"\n",
        "    n=len(vY)\n",
        "    k=len(mX.T)\n",
        "    resid = vY - mX@vB\n",
        "    sse = sum(resid**2)\n",
        "    BIC = n*np.log(sse/n) + k*np.log(n)\n",
        "    \n",
        "    return BIC\n",
        "\n",
        "def tstat(vY,mX,vB, par, h0):\n",
        "    \"\"\"Purpose: Returns the t-statistic for the given parameter par and h0\n",
        "    Inputs: vY,mX,vB, par\n",
        "    Returns: t\n",
        "    \"\"\"\n",
        "    n=len(vY)\n",
        "    k=len(mX.T)\n",
        "    resid = vY - mX@vB\n",
        "    sse = sum(resid**2)\n",
        "    mCovhat = np.linalg.inv(mX.T@mX)*sse/(n-k) # Estimate covariance matrix\n",
        "    t = (vB[par]-h0)/np.sqrt(np.diag(mCovhat)[par])\n",
        "    \n",
        "    return t\n",
        "\n",
        "###########################################################\n",
        "### main\n",
        "def main():\n",
        "    # Inputs\n",
        "    data = pd.read_csv(\"C:/Users/Jakob/Documents/adv ectrics III/VIX.csv\")\n",
        "    X = np.log(data[\"VIX\"].values)\n",
        "    fd_X = np.diff(X)\n",
        "    X = X.reshape((X.shape[0],1))\n",
        "    fd_X = fd_X.reshape((fd_X.shape[0], 1))\n",
        "    \n",
        "    MAX_LAG = 50\n",
        "    T_DELTA = -2.86\n",
        "    \n",
        "\n",
        "    # Initialisation\n",
        "    \n",
        "    plot_acf(X, lags=range(1, MAX_LAG + 1))\n",
        "    plt.show()\n",
        "    plot_acf(fd_X, lags=range(1, MAX_LAG + 1))\n",
        "    plt.show()\n",
        "    \n",
        "    #Finding the optimal number of lags p\n",
        "    p = 1\n",
        "    for i in range(10):\n",
        "        vY, mX = regressors_given_p(fd_X, X, p)\n",
        "        vB = ols(vY,mX)\n",
        "        BIC = bic(vY,mX, vB)\n",
        "        print('BIC for ', p, ' lags is ', BIC)\n",
        "        p += 1\n",
        "        \n",
        "    # THE OPTIMAL NUMBER OF LAGS IS 4! -> SET p=4 subsequently\n",
        "    p = 4\n",
        "    \n",
        "    # Now do Dickey-Fuller test:\n",
        "    vY, mX = regressors_given_p(fd_X, X, p)\n",
        "    vB = ols(vY,mX)\n",
        "    par = 1 # We are interested in the second parameter delta (first is the constant)\n",
        "    h0 = 0 # We test h0: X is integrated of order one so then delta is 0\n",
        "    t=tstat(vY,mX,vB, par, h0)\n",
        "    print('The point estimate for delta is ', vB[par])\n",
        "    print('The t-statistic for testing whether the process is integrated of ',\n",
        "          'order one is', t)\n",
        "# =============================================================================\n",
        "# We get a high t statistic b/c even though delta hat is close to 0,\n",
        "# it is very precisely estimated (n=6800). In conclusion, h0 is rejected and the \n",
        "# process is NOT integrated of order one.\n",
        "# =============================================================================\n",
        "    \n",
        "    # Estimate spectral density\n",
        "    f,Pxx  = scipy.signal.periodogram(fd_X, window='bartlett')\n",
        "\n",
        " \n",
        "\n",
        "###########################################################\n",
        "### start main\n",
        "if __name__ == \"__main__\":\n",
        "    main()\n"
      ],
      "execution_count": 0,
      "outputs": []
    }
  ]
}